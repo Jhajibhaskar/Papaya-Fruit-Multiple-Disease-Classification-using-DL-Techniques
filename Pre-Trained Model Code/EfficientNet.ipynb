{
 "cells": [
  {
   "cell_type": "code",
   "execution_count": 10,
   "id": "70c5a3d7-9c58-4054-8a03-01eaa2a63a34",
   "metadata": {},
   "outputs": [
    {
     "name": "stdout",
     "output_type": "stream",
     "text": [
      "Requirement already satisfied: efficientnet in c:\\users\\abhishek\\anaconda3\\lib\\site-packages (1.1.1)\n",
      "Requirement already satisfied: keras-applications<=1.0.8,>=1.0.7 in c:\\users\\abhishek\\anaconda3\\lib\\site-packages (from efficientnet) (1.0.8)\n",
      "Requirement already satisfied: scikit-image in c:\\users\\abhishek\\anaconda3\\lib\\site-packages (from efficientnet) (0.22.0)\n",
      "Requirement already satisfied: numpy>=1.9.1 in c:\\users\\abhishek\\anaconda3\\lib\\site-packages (from keras-applications<=1.0.8,>=1.0.7->efficientnet) (1.23.5)\n",
      "Requirement already satisfied: h5py in c:\\users\\abhishek\\anaconda3\\lib\\site-packages (from keras-applications<=1.0.8,>=1.0.7->efficientnet) (3.7.0)\n",
      "Requirement already satisfied: scipy>=1.8 in c:\\users\\abhishek\\anaconda3\\lib\\site-packages (from scikit-image->efficientnet) (1.10.1)\n",
      "Requirement already satisfied: networkx>=2.8 in c:\\users\\abhishek\\anaconda3\\lib\\site-packages (from scikit-image->efficientnet) (3.1)\n",
      "Requirement already satisfied: pillow>=9.0.1 in c:\\users\\abhishek\\anaconda3\\lib\\site-packages (from scikit-image->efficientnet) (9.4.0)\n",
      "Requirement already satisfied: imageio>=2.27 in c:\\users\\abhishek\\anaconda3\\lib\\site-packages (from scikit-image->efficientnet) (2.33.0)\n",
      "Requirement already satisfied: tifffile>=2022.8.12 in c:\\users\\abhishek\\anaconda3\\lib\\site-packages (from scikit-image->efficientnet) (2023.9.26)\n",
      "Requirement already satisfied: packaging>=21 in c:\\users\\abhishek\\anaconda3\\lib\\site-packages (from scikit-image->efficientnet) (23.0)\n",
      "Requirement already satisfied: lazy_loader>=0.3 in c:\\users\\abhishek\\anaconda3\\lib\\site-packages (from scikit-image->efficientnet) (0.3)\n",
      "Note: you may need to restart the kernel to use updated packages.\n"
     ]
    }
   ],
   "source": [
    "pip install efficientnet"
   ]
  },
  {
   "cell_type": "code",
   "execution_count": 11,
   "id": "20a0da02-9506-413a-bdd3-31c096854eac",
   "metadata": {},
   "outputs": [],
   "source": [
    "import tensorflow as tf\n",
    "from tensorflow.keras.preprocessing.image import ImageDataGenerator\n",
    "from efficientnet.tfkeras import EfficientNetB0"
   ]
  },
  {
   "cell_type": "code",
   "execution_count": 12,
   "id": "013e654d-1015-45d3-8646-c8f54d300a04",
   "metadata": {},
   "outputs": [],
   "source": [
    "# Define your data directories\n",
    "train_dir = 'C:\\\\Users\\\\ABHISHEK\\\\Downloads\\\\final dataset - Copy\\\\train'\n",
    "test_dir = 'C:\\\\Users\\\\ABHISHEK\\\\Downloads\\\\final dataset - Copy\\\\test'"
   ]
  },
  {
   "cell_type": "code",
   "execution_count": 13,
   "id": "9fe4a792-3a3b-49d4-b3c2-fae9f3d6f258",
   "metadata": {},
   "outputs": [],
   "source": [
    "# Parameters\n",
    "input_shape = (224, 224)  # Adjust based on the input size required by EfficientNet\n",
    "batch_size = 32\n",
    "epochs = 10\n",
    "num_classes = 6  # Define the number of classes in your dataset"
   ]
  },
  {
   "cell_type": "code",
   "execution_count": 14,
   "id": "e3528d4e-fbfa-4c71-b9ea-05085be16fdd",
   "metadata": {},
   "outputs": [],
   "source": [
    "# Data preprocessing and augmentation\n",
    "train_datagen = ImageDataGenerator(\n",
    "    rescale=1./255,\n",
    "    rotation_range=20,\n",
    "    width_shift_range=0.2,\n",
    "    height_shift_range=0.2,\n",
    "    shear_range=0.2,\n",
    "    zoom_range=0.2,\n",
    "    horizontal_flip=True,\n",
    "    fill_mode='nearest'\n",
    ")"
   ]
  },
  {
   "cell_type": "code",
   "execution_count": 15,
   "id": "29b0d6ee-8779-423b-af2c-b13059cd5b62",
   "metadata": {},
   "outputs": [
    {
     "name": "stdout",
     "output_type": "stream",
     "text": [
      "Found 3900 images belonging to 6 classes.\n",
      "Found 600 images belonging to 6 classes.\n"
     ]
    }
   ],
   "source": [
    "test_datagen = ImageDataGenerator(rescale=1./255)\n",
    "\n",
    "train_generator = train_datagen.flow_from_directory(\n",
    "    train_dir,\n",
    "    target_size=input_shape,\n",
    "    batch_size=batch_size,\n",
    "    class_mode='categorical'\n",
    ")\n",
    "\n",
    "test_generator = test_datagen.flow_from_directory(\n",
    "    test_dir,\n",
    "    target_size=input_shape,\n",
    "    batch_size=batch_size,\n",
    "    class_mode='categorical'\n",
    ")"
   ]
  },
  {
   "cell_type": "code",
   "execution_count": 16,
   "id": "6ee7ece4-7639-415e-b7ce-364aa3b1a07f",
   "metadata": {},
   "outputs": [],
   "source": [
    "# Model creation\n",
    "base_model = EfficientNetB0(weights='imagenet', include_top=False, input_shape=(224, 224, 3))\n",
    "\n",
    "# Freeze the pretrained weights\n",
    "base_model.trainable = False\n",
    "\n",
    "# Add classification head\n",
    "model = tf.keras.Sequential([\n",
    "    base_model,\n",
    "    tf.keras.layers.GlobalAveragePooling2D(),\n",
    "    tf.keras.layers.Dense(num_classes, activation='softmax')\n",
    "])\n",
    "\n",
    "# Compile the model\n",
    "model.compile(optimizer='adam', loss='categorical_crossentropy', metrics=['accuracy'])"
   ]
  },
  {
   "cell_type": "code",
   "execution_count": 17,
   "id": "39216f94-9905-409b-b097-5ca7ee8cd7d3",
   "metadata": {},
   "outputs": [
    {
     "name": "stdout",
     "output_type": "stream",
     "text": [
      "Epoch 1/10\n",
      "122/122 [==============================] - 189s 1s/step - loss: 1.2097 - accuracy: 0.5605\n",
      "Epoch 2/10\n",
      "122/122 [==============================] - 334s 3s/step - loss: 0.8529 - accuracy: 0.7072\n",
      "Epoch 3/10\n",
      "122/122 [==============================] - 264s 2s/step - loss: 0.7680 - accuracy: 0.7318\n",
      "Epoch 4/10\n",
      "122/122 [==============================] - 175s 1s/step - loss: 0.7109 - accuracy: 0.7544\n",
      "Epoch 5/10\n",
      "122/122 [==============================] - 195s 2s/step - loss: 0.6709 - accuracy: 0.7656\n",
      "Epoch 6/10\n",
      "122/122 [==============================] - 205s 2s/step - loss: 0.6457 - accuracy: 0.7749\n",
      "Epoch 7/10\n",
      "122/122 [==============================] - 208s 2s/step - loss: 0.6302 - accuracy: 0.7731\n",
      "Epoch 8/10\n",
      "122/122 [==============================] - 307s 3s/step - loss: 0.6138 - accuracy: 0.7831\n",
      "Epoch 9/10\n",
      "122/122 [==============================] - 271s 2s/step - loss: 0.5939 - accuracy: 0.7923\n",
      "Epoch 10/10\n",
      "122/122 [==============================] - 175s 1s/step - loss: 0.5761 - accuracy: 0.7964\n"
     ]
    }
   ],
   "source": [
    "# Train the model\n",
    "history = model.fit(\n",
    "    train_generator,\n",
    "    epochs=epochs\n",
    ")"
   ]
  },
  {
   "cell_type": "code",
   "execution_count": 18,
   "id": "0466b743-cac5-417c-a9b6-299650970714",
   "metadata": {},
   "outputs": [
    {
     "name": "stdout",
     "output_type": "stream",
     "text": [
      "Model: \"sequential_1\"\n",
      "_________________________________________________________________\n",
      " Layer (type)                Output Shape              Param #   \n",
      "=================================================================\n",
      " efficientnet-b0 (Functional  (None, 7, 7, 1280)       4049564   \n",
      " )                                                               \n",
      "                                                                 \n",
      " global_average_pooling2d_1   (None, 1280)             0         \n",
      " (GlobalAveragePooling2D)                                        \n",
      "                                                                 \n",
      " dense_1 (Dense)             (None, 6)                 7686      \n",
      "                                                                 \n",
      "=================================================================\n",
      "Total params: 4,057,250\n",
      "Trainable params: 7,686\n",
      "Non-trainable params: 4,049,564\n",
      "_________________________________________________________________\n"
     ]
    }
   ],
   "source": [
    "model.summary()\n"
   ]
  },
  {
   "cell_type": "code",
   "execution_count": null,
   "id": "d597b09a-ff78-4c79-bf4b-80b704313c54",
   "metadata": {},
   "outputs": [
    {
     "name": "stdout",
     "output_type": "stream",
     "text": [
      "19/19 [==============================] - 23s 1s/step - loss: 1.0081 - accuracy: 0.6450\n",
      "Validation Loss: 1.008069396018982\n",
      "Validation Accuracy: 0.6449999809265137\n",
      " 71/122 [================>.............] - ETA: 1:07 - loss: 0.5479 - accuracy: 0.8125"
     ]
    }
   ],
   "source": [
    "eval_result = model.evaluate(test_generator)\n",
    "print(\"Validation Loss:\", eval_result[0])\n",
    "print(\"Validation Accuracy:\", eval_result[1])\n",
    "\n",
    "val_result = model.evaluate(train_generator)\n",
    "print(\"Training Loss:\", val_result[0])\n",
    "print(\"Training Accuracy:\", val_result[1])\n"
   ]
  },
  {
   "cell_type": "code",
   "execution_count": null,
   "id": "b955b138",
   "metadata": {},
   "outputs": [],
   "source": []
  }
 ],
 "metadata": {
  "kernelspec": {
   "display_name": "Python 3 (ipykernel)",
   "language": "python",
   "name": "python3"
  },
  "language_info": {
   "codemirror_mode": {
    "name": "ipython",
    "version": 3
   },
   "file_extension": ".py",
   "mimetype": "text/x-python",
   "name": "python",
   "nbconvert_exporter": "python",
   "pygments_lexer": "ipython3",
   "version": "3.11.4"
  }
 },
 "nbformat": 4,
 "nbformat_minor": 5
}
