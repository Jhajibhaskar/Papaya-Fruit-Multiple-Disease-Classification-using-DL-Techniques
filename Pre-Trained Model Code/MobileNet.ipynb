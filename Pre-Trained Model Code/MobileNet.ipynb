{
 "cells": [
  {
   "cell_type": "code",
   "execution_count": 1,
   "id": "4f9dd964-53e5-41f0-9aac-697af88fadb9",
   "metadata": {},
   "outputs": [],
   "source": [
    "import numpy as np\n",
    "from tensorflow.keras.preprocessing.image import ImageDataGenerator\n",
    "from tensorflow.keras.applications import MobileNet\n",
    "from tensorflow.keras.models import Sequential\n",
    "from tensorflow.keras.layers import Dense, GlobalAveragePooling2D"
   ]
  },
  {
   "cell_type": "code",
   "execution_count": 2,
   "id": "3e92265d-9230-434b-9630-ae068e11d0dd",
   "metadata": {},
   "outputs": [],
   "source": [
    "# Step 1: Prepare Your Dataset\n",
    "train_data_dir = 'C:\\\\Users\\\\ABHISHEK\\\\Downloads\\\\final dataset - Copy\\\\train'\n",
    "validation_data_dir = 'C:\\\\Users\\\\ABHISHEK\\\\Downloads\\\\final dataset - Copy\\\\test'\n",
    "img_width, img_height = 224, 224\n",
    "batch_size = 32"
   ]
  },
  {
   "cell_type": "code",
   "execution_count": 3,
   "id": "a4e847c6-046f-4351-82ab-df32fcc6efbb",
   "metadata": {},
   "outputs": [
    {
     "name": "stdout",
     "output_type": "stream",
     "text": [
      "Found 3900 images belonging to 6 classes.\n",
      "Found 600 images belonging to 6 classes.\n"
     ]
    }
   ],
   "source": [
    "# Step 2: Load and Preprocess Your Dataset\n",
    "train_datagen = ImageDataGenerator(\n",
    "    rescale=1. / 255,\n",
    "    shear_range=0.2,\n",
    "    zoom_range=0.2,\n",
    "    horizontal_flip=True)\n",
    "\n",
    "test_datagen = ImageDataGenerator(rescale=1. / 255)\n",
    "\n",
    "train_generator = train_datagen.flow_from_directory(\n",
    "    train_data_dir,\n",
    "    target_size=(img_height, img_width),\n",
    "    batch_size=batch_size,\n",
    "    class_mode='categorical')\n",
    "\n",
    "validation_generator = test_datagen.flow_from_directory(\n",
    "    validation_data_dir,\n",
    "    target_size=(img_height, img_width),\n",
    "    batch_size=batch_size,\n",
    "    class_mode='categorical')"
   ]
  },
  {
   "cell_type": "code",
   "execution_count": 4,
   "id": "74cb3d02-2074-4ab3-a2d0-b98d3c79f401",
   "metadata": {},
   "outputs": [
    {
     "name": "stdout",
     "output_type": "stream",
     "text": [
      "Downloading data from https://storage.googleapis.com/tensorflow/keras-applications/mobilenet/mobilenet_1_0_224_tf_no_top.h5\n",
      "17225924/17225924 [==============================] - 3s 0us/step\n",
      "Epoch 1/5\n",
      "121/121 [==============================] - 189s 2s/step - loss: 0.8903 - accuracy: 0.6691 - val_loss: 1.4553 - val_accuracy: 0.4983\n",
      "Epoch 2/5\n",
      "121/121 [==============================] - 145s 1s/step - loss: 0.6284 - accuracy: 0.7668 - val_loss: 1.0144 - val_accuracy: 0.6528\n",
      "Epoch 3/5\n",
      "121/121 [==============================] - 141s 1s/step - loss: 0.5342 - accuracy: 0.8082 - val_loss: 1.0090 - val_accuracy: 0.6319\n",
      "Epoch 4/5\n",
      "121/121 [==============================] - 132s 1s/step - loss: 0.4714 - accuracy: 0.8307 - val_loss: 1.2036 - val_accuracy: 0.6285\n",
      "Epoch 5/5\n",
      "121/121 [==============================] - 230s 2s/step - loss: 0.4319 - accuracy: 0.8444 - val_loss: 0.9800 - val_accuracy: 0.6771\n"
     ]
    },
    {
     "data": {
      "text/plain": [
       "<keras.callbacks.History at 0x1b5ba0bd4d0>"
      ]
     },
     "execution_count": 4,
     "metadata": {},
     "output_type": "execute_result"
    }
   ],
   "source": [
    "# Step 3: Create a MobileNet Model\n",
    "base_model = MobileNet(weights='imagenet', include_top=False, input_shape=(img_height, img_width, 3))\n",
    "\n",
    "# Freeze the MobileNet layers\n",
    "for layer in base_model.layers:\n",
    "    layer.trainable = False\n",
    "\n",
    "# Step 4: Add Additional Layers\n",
    "model = Sequential()\n",
    "model.add(base_model)\n",
    "model.add(GlobalAveragePooling2D())\n",
    "model.add(Dense(256, activation='relu'))\n",
    "model.add(Dense(6, activation='softmax'))\n",
    "\n",
    "# Step 5: Compile the Model\n",
    "model.compile(optimizer='adam', loss='categorical_crossentropy', metrics=['accuracy'])\n",
    "\n",
    "# Step 6: Train the Model\n",
    "epochs = 5\n",
    "model.fit(\n",
    "    train_generator,\n",
    "    steps_per_epoch=train_generator.n // batch_size,\n",
    "    epochs=epochs,\n",
    "    validation_data=validation_generator,\n",
    "    validation_steps=validation_generator.n // batch_size)\n"
   ]
  },
  {
   "cell_type": "code",
   "execution_count": 5,
   "id": "7c5e5775-7abc-4630-ab85-59c22bb7ea1d",
   "metadata": {},
   "outputs": [
    {
     "name": "stdout",
     "output_type": "stream",
     "text": [
      "Model: \"sequential\"\n",
      "_________________________________________________________________\n",
      " Layer (type)                Output Shape              Param #   \n",
      "=================================================================\n",
      " mobilenet_1.00_224 (Functio  (None, 7, 7, 1024)       3228864   \n",
      " nal)                                                            \n",
      "                                                                 \n",
      " global_average_pooling2d (G  (None, 1024)             0         \n",
      " lobalAveragePooling2D)                                          \n",
      "                                                                 \n",
      " dense (Dense)               (None, 256)               262400    \n",
      "                                                                 \n",
      " dense_1 (Dense)             (None, 6)                 1542      \n",
      "                                                                 \n",
      "=================================================================\n",
      "Total params: 3,492,806\n",
      "Trainable params: 263,942\n",
      "Non-trainable params: 3,228,864\n",
      "_________________________________________________________________\n"
     ]
    }
   ],
   "source": [
    "model.summary()\n"
   ]
  },
  {
   "cell_type": "code",
   "execution_count": 6,
   "id": "694b3709-9721-459b-9022-6c52d72a0069",
   "metadata": {},
   "outputs": [
    {
     "name": "stdout",
     "output_type": "stream",
     "text": [
      "19/19 [==============================] - 21s 1s/step - loss: 0.9952 - accuracy: 0.6700\n",
      "Validation Accuracy: [0.9951652884483337, 0.6700000166893005]\n",
      "122/122 [==============================] - 227s 2s/step - loss: 0.3764 - accuracy: 0.8664\n",
      "Training Accuracy: [0.3763522207736969, 0.8664102554321289]\n"
     ]
    }
   ],
   "source": [
    "accuracy = model.evaluate(validation_generator)\n",
    "print(\"Validation Accuracy:\", accuracy)\n",
    "accuracy = model.evaluate(train_generator)\n",
    "print(\"Training Accuracy:\", accuracy)"
   ]
  },
  {
   "cell_type": "code",
   "execution_count": null,
   "id": "6d072cd9-31ee-4e2e-a995-ff4cab4e47e6",
   "metadata": {},
   "outputs": [],
   "source": []
  }
 ],
 "metadata": {
  "kernelspec": {
   "display_name": "Python 3 (ipykernel)",
   "language": "python",
   "name": "python3"
  },
  "language_info": {
   "codemirror_mode": {
    "name": "ipython",
    "version": 3
   },
   "file_extension": ".py",
   "mimetype": "text/x-python",
   "name": "python",
   "nbconvert_exporter": "python",
   "pygments_lexer": "ipython3",
   "version": "3.11.4"
  }
 },
 "nbformat": 4,
 "nbformat_minor": 5
}
